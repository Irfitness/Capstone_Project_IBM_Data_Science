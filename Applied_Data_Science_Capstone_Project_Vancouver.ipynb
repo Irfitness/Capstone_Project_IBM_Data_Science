{
    "cells": [
        {
            "cell_type": "markdown",
            "metadata": {
                "collapsed": true
            },
            "source": "# Applied Data Science Capstone Project  \n## Analysis of Vancouver BC, Canada\n### Dino Rossi - November 2020"
        },
        {
            "cell_type": "markdown",
            "metadata": {},
            "source": "![Image of Vancouver](https://www.hellobc.com/content/uploads/2018/03/2-6787-vancouver-skyline-2100x1000.jpg)"
        },
        {
            "cell_type": "markdown",
            "metadata": {},
            "source": "Image source: https://www.hellobc.com/content/uploads/2018/03/2-6787-vancouver-skyline-2100x1000.jpg"
        },
        {
            "cell_type": "markdown",
            "metadata": {},
            "source": "#### Background and description of the problem:  \nVancouver is a densly populated city in the province of British Columbia on the Pacific coast of Canada. With a population of 675,000 in the city and 2,500,000 in the metropolitan area, it is the largest city in British Columbia and the thrid largest metropolitan area in Canada.  \n\nWhile dense metropolitan areas bring opportunities, they also create constraints. These constraints can lead to stiff competition and high rents for prime business locations. Because of this, choosing the right location for a new business can make the difference between success and failure.  \n\nThis projects sets out to analize the city of Vancouver in order to determine the best location to open a new business. This will be achieved through the use of web scraping, pulling venue data through the Foursquare API, preparing the data for analysis, anylizing the data though clustering, and producing maps of the city based on the results. These maps can be used to narrow down potential locations for the new business."
        },
        {
            "cell_type": "code",
            "execution_count": null,
            "metadata": {},
            "outputs": [],
            "source": ""
        }
    ],
    "metadata": {
        "kernelspec": {
            "display_name": "Python 3.7",
            "language": "python",
            "name": "python3"
        },
        "language_info": {
            "codemirror_mode": {
                "name": "ipython",
                "version": 3
            },
            "file_extension": ".py",
            "mimetype": "text/x-python",
            "name": "python",
            "nbconvert_exporter": "python",
            "pygments_lexer": "ipython3",
            "version": "3.7.9"
        }
    },
    "nbformat": 4,
    "nbformat_minor": 1
}