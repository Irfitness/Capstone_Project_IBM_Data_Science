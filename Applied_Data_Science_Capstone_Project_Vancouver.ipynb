{
    "cells": [
        {
            "cell_type": "markdown",
            "metadata": {
                "collapsed": true
            },
            "source": "# Applied Data Science Capstone Project  \n## Analysis of Vancouver BC, Canada\n### Dino Rossi - November 2020"
        },
        {
            "cell_type": "markdown",
            "metadata": {},
            "source": "![Image of Vancouver](https://maps-vancouver.com/img/ban.jpg)Image source: https://maps-vancouver.com/img/ban.jpg"
        },
        {
            "cell_type": "markdown",
            "metadata": {},
            "source": "## 1. Introduction / Buisness Problem \nVancouver is a densly populated city in the province of British Columbia on the Pacific coast of Canada. With a population of 675,000 in the city and 2,500,000 in the metropolitan area, it is the largest city in British Columbia and the thrid largest metropolitan area in Canada.  \n\nWhile dense metropolitan areas bring opportunities, they also create constraints. These constraints can lead to stiff competition and high rents for prime business locations. Because of this, choosing the right location for a new business can make the difference between success and failure. The \"right\" location will mean different things to different people. Some might want to search out a \"low\" competition neighborhood where there are few restaurants, while others would prefer a \"high\" competition neighborhood in order to be situted within a bustling scene.\n\nThere is no substitute for local knowledge and understanding of a city and its neighborhoods, but there are often larger trends/patterns that are difficult to see. This projects sets out to take advantage of powerful data science tools and techniques in order to gain new insights into the city of Vancouver in order to understand some of those paterns and trends that are not necessarily visible or obvious. These insights will facilitate determining the best location to open a new restaurant by adding layers of information thay will be complementary to local knowledge. The results will be usuable by nayone looking to open a restaurant in Vancouver, and can be adapted to various use cases. \n\n<img src=\"https://www.cas-satj.gc.ca/images/canada-map.png\" width=\"500px\">\n\nImage source: https://www.cas-satj.gc.ca/images/canada-map.png"
        },
        {
            "cell_type": "markdown",
            "metadata": {},
            "source": "## 2. Data Aquisition and Handling\nA *dataset* will be built through the use of *web scraping* and pulling venue data through the *Foursquare API*. The data will be *wrangled* into shape using the *Pandas* library. Analysis of the data will be carried outwith the *Scikit-learn* library, in particular *K-means clustering* will be used. Finally, the results will be displayed as *maps* of the city, which will be produced using the *Folium* library. These maps can be used to narrow down potential locations for a new restaurant."
        },
        {
            "cell_type": "markdown",
            "metadata": {},
            "source": "### 2.1 Building the Dataset...  \nIn order to build the data set it is necessary to aquire the postal codes for Vancouver. Canada uses an Alphanumeric postal code system. The country is broadly devided into 18 postal regions (see image). These regions are then further subdevided into smaller zones. British Columbia (\"V\" on the map) has 192 postal codes, but this project will only be looking at the postal codes in and immedialy around the city of Vancouver.  \n<img src=\"https://upload.wikimedia.org/wikipedia/commons/thumb/e/e4/Canadian_postal_district_map.svg/1024px-Canadian_postal_district_map.svg.png\" width=\"400\">\nImage source: https://upload.wikimedia.org/wikipedia/commons/thumb/e/e4/Canadian_postal_district_map.svg/1024px-Canadian_postal_district_map.svg.png  \n  \nZooming in on Vancouver enables us to select the appropriate postal codes for the areas we wish to analyze. By studying the map below, we can see that the postal codes of interest include the ones starting with V5, V6, and V7. According to this site (https://worldpostalcode.com/canada/british-columbia/vancouver) Vancouver city includes these postal codes: V6L V5R V6H V6G V6E V6C V6B V6A V5Z V5Y V5X V5W V6K V5T V5S V5P V6M V5N V5M V5L V5V V7Y V7X V6Z V6T V6S V6R V6P V6N V5K V6J  \n<img src=\"https://maps-vancouver.com/img/0/vancouver-postal-code-map.jpg\" width=\"400\">\nImage source: https://maps-vancouver.com/img/0/vancouver-postal-code-map.jpg  \n\nThe rough data for the postal codes can be scraped from this Wikipedia page: https://en.wikipedia.org/wiki/List_of_postal_codes_of_Canada:_V The data includes all 192 postal codes for the British Columbia region, so the data set will nedd to be narrowed down to include only the appropriate codes.  \n\nOnce a clean dataframe of postal codes and nieghborhoods is created, webscrapping can again be employed, this time to aquire the geolocations (longitude and latitude) for each postal code.  \n\nAfter the geolocations have been added to the dataframe API calls can be made to Frousquare to aquire venue data, which in turn will be appended to the dataframe.  \n\nWhen the dataframe contains all the necessary/relevant data analysis/exploration can begin."
        },
        {
            "cell_type": "markdown",
            "metadata": {},
            "source": "## 3. Code  \nThis section will show the code used to get, clean, and analyze the data, as well as generate the maps."
        },
        {
            "cell_type": "code",
            "execution_count": 1,
            "metadata": {},
            "outputs": [
                {
                    "name": "stdout",
                    "output_type": "stream",
                    "text": "5\n"
                }
            ],
            "source": "#Install Pandas and read data frames from Wikipedia page\nimport pandas as pd\n\nurl = 'https://en.wikipedia.org/wiki/List_of_postal_codes_of_Canada:_V'\ndfs = pd.read_html(url)\nprint(len(dfs))"
        },
        {
            "cell_type": "code",
            "execution_count": 2,
            "metadata": {},
            "outputs": [
                {
                    "data": {
                        "text/html": "<div>\n<style scoped>\n    .dataframe tbody tr th:only-of-type {\n        vertical-align: middle;\n    }\n\n    .dataframe tbody tr th {\n        vertical-align: top;\n    }\n\n    .dataframe thead th {\n        text-align: right;\n    }\n</style>\n<table border=\"1\" class=\"dataframe\">\n  <thead>\n    <tr style=\"text-align: right;\">\n      <th></th>\n      <th>0</th>\n      <th>1</th>\n      <th>2</th>\n      <th>3</th>\n      <th>4</th>\n      <th>5</th>\n      <th>6</th>\n      <th>7</th>\n      <th>8</th>\n    </tr>\n  </thead>\n  <tbody>\n    <tr>\n      <th>0</th>\n      <td>V1AKimberley</td>\n      <td>V2APenticton</td>\n      <td>V3ALangley Township(Langley City)</td>\n      <td>V4ASurreySouthwest</td>\n      <td>V5ABurnaby(Government Road / Lake City / SFU /...</td>\n      <td>V6AVancouver(Strathcona / Chinatown / Downtown...</td>\n      <td>V7ARichmondSouth</td>\n      <td>V8APowell River</td>\n      <td>V9AVictoria(Vic West / Esquimalt)Canadian Forc...</td>\n    </tr>\n    <tr>\n      <th>1</th>\n      <td>V1BVernonEast</td>\n      <td>V2BKamloopsNorthwest</td>\n      <td>V3BPort CoquitlamCentral</td>\n      <td>V4BWhite Rock</td>\n      <td>V5BBurnaby(Parkcrest-Aubrey / Ardingley-Sprott)</td>\n      <td>V6BVancouver(NE Downtown / Gastown / Harbour C...</td>\n      <td>V7BRichmond(Sea Island / YVR)</td>\n      <td>V8BSquamish</td>\n      <td>V9BVictoria(West Highlands / North Langford / ...</td>\n    </tr>\n    <tr>\n      <th>2</th>\n      <td>V1CCranbrook</td>\n      <td>V2CKamloopsCentral and Southeast</td>\n      <td>V3CPort CoquitlamSouth</td>\n      <td>V4CDeltaNortheast</td>\n      <td>V5CBurnaby(Burnaby Heights / Willingdon Height...</td>\n      <td>V6CVancouver(Waterfront / Coal Harbour / Canad...</td>\n      <td>V7CRichmondNorthwest</td>\n      <td>V8CKitimat</td>\n      <td>V9CVictoria(Colwood / South Langford / Metchosin)</td>\n    </tr>\n    <tr>\n      <th>3</th>\n      <td>V1ESalmon Arm</td>\n      <td>V2EKamloopsSouth and West</td>\n      <td>V3ECoquitlamNorth</td>\n      <td>V4EDeltaEast</td>\n      <td>V5EBurnaby(Lakeview-Mayfield / Richmond Park /...</td>\n      <td>V6EVancouver(SE West End / Davie Village)</td>\n      <td>V7ERichmondSouthwest</td>\n      <td>V8EWhistler</td>\n      <td>V9EVictoria(East Highlands / NW Saanich)</td>\n    </tr>\n    <tr>\n      <th>4</th>\n      <td>V1GDawson Creek</td>\n      <td>V2GWilliams Lake</td>\n      <td>V3GAbbotsfordEast</td>\n      <td>V4GDeltaEast Central</td>\n      <td>V5GBurnaby(Cascade-Schou / Douglas-Gilpin)</td>\n      <td>V6GVancouver(NW West End / Stanley Park)</td>\n      <td>V7GNorth Vancouver (district municipality)Oute...</td>\n      <td>V8GTerrace</td>\n      <td>V9GLadysmith</td>\n    </tr>\n  </tbody>\n</table>\n</div>",
                        "text/plain": "                 0                                 1  \\\n0     V1AKimberley                      V2APenticton   \n1    V1BVernonEast              V2BKamloopsNorthwest   \n2     V1CCranbrook  V2CKamloopsCentral and Southeast   \n3    V1ESalmon Arm         V2EKamloopsSouth and West   \n4  V1GDawson Creek                  V2GWilliams Lake   \n\n                                   2                     3  \\\n0  V3ALangley Township(Langley City)    V4ASurreySouthwest   \n1           V3BPort CoquitlamCentral         V4BWhite Rock   \n2             V3CPort CoquitlamSouth     V4CDeltaNortheast   \n3                  V3ECoquitlamNorth          V4EDeltaEast   \n4                  V3GAbbotsfordEast  V4GDeltaEast Central   \n\n                                                   4  \\\n0  V5ABurnaby(Government Road / Lake City / SFU /...   \n1    V5BBurnaby(Parkcrest-Aubrey / Ardingley-Sprott)   \n2  V5CBurnaby(Burnaby Heights / Willingdon Height...   \n3  V5EBurnaby(Lakeview-Mayfield / Richmond Park /...   \n4         V5GBurnaby(Cascade-Schou / Douglas-Gilpin)   \n\n                                                   5  \\\n0  V6AVancouver(Strathcona / Chinatown / Downtown...   \n1  V6BVancouver(NE Downtown / Gastown / Harbour C...   \n2  V6CVancouver(Waterfront / Coal Harbour / Canad...   \n3          V6EVancouver(SE West End / Davie Village)   \n4           V6GVancouver(NW West End / Stanley Park)   \n\n                                                   6                7  \\\n0                                   V7ARichmondSouth  V8APowell River   \n1                      V7BRichmond(Sea Island / YVR)      V8BSquamish   \n2                               V7CRichmondNorthwest       V8CKitimat   \n3                               V7ERichmondSouthwest      V8EWhistler   \n4  V7GNorth Vancouver (district municipality)Oute...       V8GTerrace   \n\n                                                   8  \n0  V9AVictoria(Vic West / Esquimalt)Canadian Forc...  \n1  V9BVictoria(West Highlands / North Langford / ...  \n2  V9CVictoria(Colwood / South Langford / Metchosin)  \n3           V9EVictoria(East Highlands / NW Saanich)  \n4                                       V9GLadysmith  "
                    },
                    "execution_count": 2,
                    "metadata": {},
                    "output_type": "execute_result"
                }
            ],
            "source": "# create dataframe from correct table and display it\ndf1 = dfs[0]\ndf1.head()"
        },
        {
            "cell_type": "code",
            "execution_count": 4,
            "metadata": {},
            "outputs": [
                {
                    "name": "stdout",
                    "output_type": "stream",
                    "text": "(180, 1)\n"
                },
                {
                    "data": {
                        "text/html": "<div>\n<style scoped>\n    .dataframe tbody tr th:only-of-type {\n        vertical-align: middle;\n    }\n\n    .dataframe tbody tr th {\n        vertical-align: top;\n    }\n\n    .dataframe thead th {\n        text-align: right;\n    }\n</style>\n<table border=\"1\" class=\"dataframe\">\n  <thead>\n    <tr style=\"text-align: right;\">\n      <th></th>\n      <th>0</th>\n    </tr>\n  </thead>\n  <tbody>\n    <tr>\n      <th>0</th>\n      <td>V1AKimberley</td>\n    </tr>\n    <tr>\n      <th>1</th>\n      <td>V1BVernonEast</td>\n    </tr>\n    <tr>\n      <th>2</th>\n      <td>V1CCranbrook</td>\n    </tr>\n    <tr>\n      <th>3</th>\n      <td>V1ESalmon Arm</td>\n    </tr>\n    <tr>\n      <th>4</th>\n      <td>V1GDawson Creek</td>\n    </tr>\n  </tbody>\n</table>\n</div>",
                        "text/plain": "                 0\n0     V1AKimberley\n1    V1BVernonEast\n2     V1CCranbrook\n3    V1ESalmon Arm\n4  V1GDawson Creek"
                    },
                    "execution_count": 4,
                    "metadata": {},
                    "output_type": "execute_result"
                }
            ],
            "source": "# sort all the names into a single column\nimport itertools as it\ndf2 = pd.DataFrame(sorted(it.chain(*df1.values)))\nprint(df2.shape)\ndf2.head()"
        },
        {
            "cell_type": "code",
            "execution_count": 5,
            "metadata": {},
            "outputs": [
                {
                    "data": {
                        "text/html": "<div>\n<style scoped>\n    .dataframe tbody tr th:only-of-type {\n        vertical-align: middle;\n    }\n\n    .dataframe tbody tr th {\n        vertical-align: top;\n    }\n\n    .dataframe thead th {\n        text-align: right;\n    }\n</style>\n<table border=\"1\" class=\"dataframe\">\n  <thead>\n    <tr style=\"text-align: right;\">\n      <th></th>\n      <th>post_code</th>\n    </tr>\n  </thead>\n  <tbody>\n    <tr>\n      <th>0</th>\n      <td>V1AKimberley</td>\n    </tr>\n    <tr>\n      <th>1</th>\n      <td>V1BVernonEast</td>\n    </tr>\n    <tr>\n      <th>2</th>\n      <td>V1CCranbrook</td>\n    </tr>\n    <tr>\n      <th>3</th>\n      <td>V1ESalmon Arm</td>\n    </tr>\n    <tr>\n      <th>4</th>\n      <td>V1GDawson Creek</td>\n    </tr>\n    <tr>\n      <th>...</th>\n      <td>...</td>\n    </tr>\n    <tr>\n      <th>175</th>\n      <td>V9VNanaimoNorthwest</td>\n    </tr>\n    <tr>\n      <th>176</th>\n      <td>V9WCampbell RiverCentral</td>\n    </tr>\n    <tr>\n      <th>177</th>\n      <td>V9XNanaimo(Cedar)</td>\n    </tr>\n    <tr>\n      <th>178</th>\n      <td>V9YPort Alberni</td>\n    </tr>\n    <tr>\n      <th>179</th>\n      <td>V9ZSooke</td>\n    </tr>\n  </tbody>\n</table>\n<p>180 rows \u00d7 1 columns</p>\n</div>",
                        "text/plain": "                    post_code\n0                V1AKimberley\n1               V1BVernonEast\n2                V1CCranbrook\n3               V1ESalmon Arm\n4             V1GDawson Creek\n..                        ...\n175       V9VNanaimoNorthwest\n176  V9WCampbell RiverCentral\n177         V9XNanaimo(Cedar)\n178           V9YPort Alberni\n179                  V9ZSooke\n\n[180 rows x 1 columns]"
                    },
                    "execution_count": 5,
                    "metadata": {},
                    "output_type": "execute_result"
                }
            ],
            "source": "# rename postal code column to \"post_code\"\ndf3 = df2.rename(columns={0: 'post_code'})\ndf3"
        },
        {
            "cell_type": "code",
            "execution_count": 6,
            "metadata": {},
            "outputs": [
                {
                    "data": {
                        "text/html": "<div>\n<style scoped>\n    .dataframe tbody tr th:only-of-type {\n        vertical-align: middle;\n    }\n\n    .dataframe tbody tr th {\n        vertical-align: top;\n    }\n\n    .dataframe thead th {\n        text-align: right;\n    }\n</style>\n<table border=\"1\" class=\"dataframe\">\n  <thead>\n    <tr style=\"text-align: right;\">\n      <th></th>\n      <th>post_code</th>\n      <th>neighborhood</th>\n    </tr>\n  </thead>\n  <tbody>\n    <tr>\n      <th>0</th>\n      <td>V1A</td>\n      <td>Kimberley</td>\n    </tr>\n    <tr>\n      <th>1</th>\n      <td>V1B</td>\n      <td>VernonEast</td>\n    </tr>\n    <tr>\n      <th>2</th>\n      <td>V1C</td>\n      <td>Cranbrook</td>\n    </tr>\n    <tr>\n      <th>3</th>\n      <td>V1E</td>\n      <td>Salmon Arm</td>\n    </tr>\n    <tr>\n      <th>4</th>\n      <td>V1G</td>\n      <td>Dawson Creek</td>\n    </tr>\n    <tr>\n      <th>...</th>\n      <td>...</td>\n      <td>...</td>\n    </tr>\n    <tr>\n      <th>175</th>\n      <td>V9V</td>\n      <td>NanaimoNorthwest</td>\n    </tr>\n    <tr>\n      <th>176</th>\n      <td>V9W</td>\n      <td>Campbell RiverCentral</td>\n    </tr>\n    <tr>\n      <th>177</th>\n      <td>V9X</td>\n      <td>Nanaimo(Cedar)</td>\n    </tr>\n    <tr>\n      <th>178</th>\n      <td>V9Y</td>\n      <td>Port Alberni</td>\n    </tr>\n    <tr>\n      <th>179</th>\n      <td>V9Z</td>\n      <td>Sooke</td>\n    </tr>\n  </tbody>\n</table>\n<p>180 rows \u00d7 2 columns</p>\n</div>",
                        "text/plain": "    post_code           neighborhood\n0         V1A              Kimberley\n1         V1B             VernonEast\n2         V1C              Cranbrook\n3         V1E             Salmon Arm\n4         V1G           Dawson Creek\n..        ...                    ...\n175       V9V       NanaimoNorthwest\n176       V9W  Campbell RiverCentral\n177       V9X         Nanaimo(Cedar)\n178       V9Y           Port Alberni\n179       V9Z                  Sooke\n\n[180 rows x 2 columns]"
                    },
                    "execution_count": 6,
                    "metadata": {},
                    "output_type": "execute_result"
                }
            ],
            "source": "# split post codes and neighborhood names into separate columns\ndf3['neighborhood'] = df3['post_code'].str.slice(start=3)\ndf3['post_code'] = df3['post_code'].str.slice(stop=3)\ndf3"
        },
        {
            "cell_type": "markdown",
            "metadata": {},
            "source": "### Select Vacouver city post codes \nVancouver city post codes include:\nV6L V5R V6H V6G V6E V6C V6B V6A V5Z V5Y V5X V5W V6K V5T V5S V5P V6M V5N V5M V5L V5V V7Y V7X V6Z V6T V6S V6R V6P V6N V5K V6J\nThese need to be selected out of the data frame which currently includes all post codes for the Province of British Columbia"
        },
        {
            "cell_type": "code",
            "execution_count": 35,
            "metadata": {},
            "outputs": [
                {
                    "data": {
                        "text/html": "<div>\n<style scoped>\n    .dataframe tbody tr th:only-of-type {\n        vertical-align: middle;\n    }\n\n    .dataframe tbody tr th {\n        vertical-align: top;\n    }\n\n    .dataframe thead th {\n        text-align: right;\n    }\n</style>\n<table border=\"1\" class=\"dataframe\">\n  <thead>\n    <tr style=\"text-align: right;\">\n      <th></th>\n      <th>post_code</th>\n      <th>neighborhood</th>\n    </tr>\n  </thead>\n  <tbody>\n    <tr>\n      <th>87</th>\n      <td>V5K</td>\n      <td>Vancouver(North Hastings-Sunrise)</td>\n    </tr>\n    <tr>\n      <th>88</th>\n      <td>V5L</td>\n      <td>Vancouver(North Grandview-Woodland)</td>\n    </tr>\n    <tr>\n      <th>89</th>\n      <td>V5M</td>\n      <td>Vancouver(South Hastings-Sunrise / North Renfr...</td>\n    </tr>\n    <tr>\n      <th>90</th>\n      <td>V5N</td>\n      <td>Vancouver(South Grandview-Woodland / NE Kensin...</td>\n    </tr>\n    <tr>\n      <th>91</th>\n      <td>V5P</td>\n      <td>Vancouver(SE Kensington-Cedar Cottage / Victor...</td>\n    </tr>\n  </tbody>\n</table>\n</div>",
                        "text/plain": "   post_code                                       neighborhood\n87       V5K                  Vancouver(North Hastings-Sunrise)\n88       V5L                Vancouver(North Grandview-Woodland)\n89       V5M  Vancouver(South Hastings-Sunrise / North Renfr...\n90       V5N  Vancouver(South Grandview-Woodland / NE Kensin...\n91       V5P  Vancouver(SE Kensington-Cedar Cottage / Victor..."
                    },
                    "execution_count": 35,
                    "metadata": {},
                    "output_type": "execute_result"
                }
            ],
            "source": "# create series of post codes in Vancouver city \nvancouver_city = 'V6L V5R V6H V6G V6E V6C V6B V6A V5Z V5Y V5X V5W V6K V5T V5S V5P V6M V5N V5M V5L V5V V7Y V7X V6Z V6T V6S V6R V6P V6N V5K V6J'.split()\nvancouver_city\n\ndf4 = df3[df3['post_code'].isin(vancouver_city)]\ndf4.head()"
        },
        {
            "cell_type": "code",
            "execution_count": 36,
            "metadata": {},
            "outputs": [
                {
                    "data": {
                        "text/html": "<div>\n<style scoped>\n    .dataframe tbody tr th:only-of-type {\n        vertical-align: middle;\n    }\n\n    .dataframe tbody tr th {\n        vertical-align: top;\n    }\n\n    .dataframe thead th {\n        text-align: right;\n    }\n</style>\n<table border=\"1\" class=\"dataframe\">\n  <thead>\n    <tr style=\"text-align: right;\">\n      <th></th>\n      <th>post_code</th>\n      <th>neighborhood</th>\n    </tr>\n  </thead>\n  <tbody>\n    <tr>\n      <th>87</th>\n      <td>V5K</td>\n      <td>North Hastings-Sunrise</td>\n    </tr>\n    <tr>\n      <th>88</th>\n      <td>V5L</td>\n      <td>North Grandview-Woodland</td>\n    </tr>\n    <tr>\n      <th>89</th>\n      <td>V5M</td>\n      <td>South Hastings-Sunrise / North Renfrew-Colling...</td>\n    </tr>\n    <tr>\n      <th>90</th>\n      <td>V5N</td>\n      <td>South Grandview-Woodland / NE Kensington-Cedar...</td>\n    </tr>\n    <tr>\n      <th>91</th>\n      <td>V5P</td>\n      <td>SE Kensington-Cedar Cottage / Victoria-Fraserview</td>\n    </tr>\n  </tbody>\n</table>\n</div>",
                        "text/plain": "   post_code                                       neighborhood\n87       V5K                             North Hastings-Sunrise\n88       V5L                           North Grandview-Woodland\n89       V5M  South Hastings-Sunrise / North Renfrew-Colling...\n90       V5N  South Grandview-Woodland / NE Kensington-Cedar...\n91       V5P  SE Kensington-Cedar Cottage / Victoria-Fraserview"
                    },
                    "execution_count": 36,
                    "metadata": {},
                    "output_type": "execute_result"
                }
            ],
            "source": "# split \"neighborhood\" column into \"city\" (Vancouver) and \"neighborhood\" (the rest of string)\ndf5 = df4.copy()\ndf5['neighborhood'] = df5['neighborhood'].str.slice(start = 10, stop = -1)\ndf5.head()"
        },
        {
            "cell_type": "markdown",
            "metadata": {},
            "source": "### scrape the geo locations (longitude and latitude) for each post code  \n### and append \"long\" and \"lat\" columns "
        },
        {
            "cell_type": "code",
            "execution_count": 37,
            "metadata": {},
            "outputs": [],
            "source": "import requests"
        },
        {
            "cell_type": "code",
            "execution_count": 38,
            "metadata": {},
            "outputs": [
                {
                    "name": "stdout",
                    "output_type": "stream",
                    "text": "V5K latitude = 49.283199\nV5K longitude = -123.038055\n"
                }
            ],
            "source": "# a single post code test\nresp = requests.get('http://geogratis.gc.ca/services/geolocation/en/locate?q=V5K')\ndf_test = pd.json_normalize(resp.json())\nprint('V5K latitude = ' + str(df_test['geometry.coordinates'][0][1]))\nprint('V5K longitude = ' + str(df_test['geometry.coordinates'][0][0]))"
        },
        {
            "cell_type": "code",
            "execution_count": 41,
            "metadata": {},
            "outputs": [
                {
                    "data": {
                        "text/html": "<div>\n<style scoped>\n    .dataframe tbody tr th:only-of-type {\n        vertical-align: middle;\n    }\n\n    .dataframe tbody tr th {\n        vertical-align: top;\n    }\n\n    .dataframe thead th {\n        text-align: right;\n    }\n</style>\n<table border=\"1\" class=\"dataframe\">\n  <thead>\n    <tr style=\"text-align: right;\">\n      <th></th>\n      <th>post_code</th>\n      <th>neighborhood</th>\n      <th>Latitude</th>\n      <th>Longitude</th>\n    </tr>\n  </thead>\n  <tbody>\n    <tr>\n      <th>87</th>\n      <td>V5K</td>\n      <td>North Hastings-Sunrise</td>\n      <td>49.283199</td>\n      <td>-123.038055</td>\n    </tr>\n    <tr>\n      <th>88</th>\n      <td>V5L</td>\n      <td>North Grandview-Woodland</td>\n      <td>49.282318</td>\n      <td>-123.065453</td>\n    </tr>\n    <tr>\n      <th>89</th>\n      <td>V5M</td>\n      <td>South Hastings-Sunrise / North Renfrew-Colling...</td>\n      <td>49.261265</td>\n      <td>-123.038399</td>\n    </tr>\n    <tr>\n      <th>90</th>\n      <td>V5N</td>\n      <td>South Grandview-Woodland / NE Kensington-Cedar...</td>\n      <td>49.256790</td>\n      <td>-123.069305</td>\n    </tr>\n    <tr>\n      <th>91</th>\n      <td>V5P</td>\n      <td>SE Kensington-Cedar Cottage / Victoria-Fraserview</td>\n      <td>49.224976</td>\n      <td>-123.066719</td>\n    </tr>\n  </tbody>\n</table>\n</div>",
                        "text/plain": "   post_code                                       neighborhood   Latitude  \\\n87       V5K                             North Hastings-Sunrise  49.283199   \n88       V5L                           North Grandview-Woodland  49.282318   \n89       V5M  South Hastings-Sunrise / North Renfrew-Colling...  49.261265   \n90       V5N  South Grandview-Woodland / NE Kensington-Cedar...  49.256790   \n91       V5P  SE Kensington-Cedar Cottage / Victoria-Fraserview  49.224976   \n\n     Longitude  \n87 -123.038055  \n88 -123.065453  \n89 -123.038399  \n90 -123.069305  \n91 -123.066719  "
                    },
                    "execution_count": 41,
                    "metadata": {},
                    "output_type": "execute_result"
                }
            ],
            "source": "# loop through postcodes and scrape/append latitude and longitude columns  \nlat = []\nlong = []\nurl_base = \"http://geogratis.gc.ca/services/geolocation/en/locate?q=\"\n\nfor postal_code in df5[\"post_code\"]:\n        url = url_base + postal_code\n        resp = requests.get(url)\n        df = pd.json_normalize(resp.json())\n        lat.append(df['geometry.coordinates'][0][1])\n        long.append(df['geometry.coordinates'][0][0])\n\ndf5['Latitude'] = lat\ndf5['Longitude'] = long\ndf5.head()"
        },
        {
            "cell_type": "code",
            "execution_count": 40,
            "metadata": {},
            "outputs": [
                {
                    "data": {
                        "text/html": "<div>\n<style scoped>\n    .dataframe tbody tr th:only-of-type {\n        vertical-align: middle;\n    }\n\n    .dataframe tbody tr th {\n        vertical-align: top;\n    }\n\n    .dataframe thead th {\n        text-align: right;\n    }\n</style>\n<table border=\"1\" class=\"dataframe\">\n  <thead>\n    <tr style=\"text-align: right;\">\n      <th></th>\n      <th>post_code</th>\n      <th>neighborhood</th>\n    </tr>\n  </thead>\n  <tbody>\n    <tr>\n      <th>87</th>\n      <td>V5K</td>\n      <td>Vancouver(North Hastings-Sunrise)</td>\n    </tr>\n    <tr>\n      <th>88</th>\n      <td>V5L</td>\n      <td>Vancouver(North Grandview-Woodland)</td>\n    </tr>\n    <tr>\n      <th>89</th>\n      <td>V5M</td>\n      <td>Vancouver(South Hastings-Sunrise / North Renfr...</td>\n    </tr>\n    <tr>\n      <th>90</th>\n      <td>V5N</td>\n      <td>Vancouver(South Grandview-Woodland / NE Kensin...</td>\n    </tr>\n    <tr>\n      <th>91</th>\n      <td>V5P</td>\n      <td>Vancouver(SE Kensington-Cedar Cottage / Victor...</td>\n    </tr>\n    <tr>\n      <th>92</th>\n      <td>V5R</td>\n      <td>Vancouver(South Renfrew-Collingwood)</td>\n    </tr>\n    <tr>\n      <th>93</th>\n      <td>V5S</td>\n      <td>Vancouver(Killarney)</td>\n    </tr>\n    <tr>\n      <th>94</th>\n      <td>V5T</td>\n      <td>Vancouver(East Mount Pleasant)</td>\n    </tr>\n    <tr>\n      <th>95</th>\n      <td>V5V</td>\n      <td>Vancouver(West Kensington-Cedar Cottage / NE R...</td>\n    </tr>\n    <tr>\n      <th>96</th>\n      <td>V5W</td>\n      <td>Vancouver(SE Riley Park-Little Mountain / SW K...</td>\n    </tr>\n    <tr>\n      <th>97</th>\n      <td>V5X</td>\n      <td>Vancouver(SE Oakridge / East Marpole / South S...</td>\n    </tr>\n    <tr>\n      <th>98</th>\n      <td>V5Y</td>\n      <td>Vancouver(West Mount Pleasant / West Riley Par...</td>\n    </tr>\n    <tr>\n      <th>99</th>\n      <td>V5Z</td>\n      <td>Vancouver(East Fairview / South Cambie)</td>\n    </tr>\n    <tr>\n      <th>100</th>\n      <td>V6A</td>\n      <td>Vancouver(Strathcona / Chinatown / Downtown Ea...</td>\n    </tr>\n    <tr>\n      <th>101</th>\n      <td>V6B</td>\n      <td>Vancouver(NE Downtown / Gastown / Harbour Cent...</td>\n    </tr>\n    <tr>\n      <th>102</th>\n      <td>V6C</td>\n      <td>Vancouver(Waterfront / Coal Harbour / Canada P...</td>\n    </tr>\n    <tr>\n      <th>103</th>\n      <td>V6E</td>\n      <td>Vancouver(SE West End / Davie Village)</td>\n    </tr>\n    <tr>\n      <th>104</th>\n      <td>V6G</td>\n      <td>Vancouver(NW West End / Stanley Park)</td>\n    </tr>\n    <tr>\n      <th>105</th>\n      <td>V6H</td>\n      <td>Vancouver(West Fairview / Granville Island / N...</td>\n    </tr>\n    <tr>\n      <th>106</th>\n      <td>V6J</td>\n      <td>Vancouver(NW Shaughnessy / East Kitsilano / Qu...</td>\n    </tr>\n    <tr>\n      <th>107</th>\n      <td>V6K</td>\n      <td>Vancouver(Central Kitsilano / Greektown)</td>\n    </tr>\n    <tr>\n      <th>108</th>\n      <td>V6L</td>\n      <td>Vancouver(NW Arbutus Ridge / NE Dunbar-Southla...</td>\n    </tr>\n    <tr>\n      <th>109</th>\n      <td>V6M</td>\n      <td>Vancouver(South Shaughnessy / NW Oakridge / NE...</td>\n    </tr>\n    <tr>\n      <th>110</th>\n      <td>V6N</td>\n      <td>Vancouver(West Kerrisdale / South Dunbar-South...</td>\n    </tr>\n    <tr>\n      <th>111</th>\n      <td>V6P</td>\n      <td>Vancouver(SE Kerrisdale / SW Oakridge / West M...</td>\n    </tr>\n    <tr>\n      <th>112</th>\n      <td>V6R</td>\n      <td>Vancouver(West Kitsilano / West Point Grey / J...</td>\n    </tr>\n    <tr>\n      <th>113</th>\n      <td>V6S</td>\n      <td>Vancouver(NW Dunbar-Southlands / Chaldecutt / ...</td>\n    </tr>\n    <tr>\n      <th>114</th>\n      <td>V6T</td>\n      <td>Vancouver(UBC)</td>\n    </tr>\n    <tr>\n      <th>119</th>\n      <td>V6Z</td>\n      <td>Vancouver(SW Downtown)</td>\n    </tr>\n    <tr>\n      <th>137</th>\n      <td>V7X</td>\n      <td>Vancouver(Bentall Centre)</td>\n    </tr>\n    <tr>\n      <th>138</th>\n      <td>V7Y</td>\n      <td>Vancouver(Pacific Centre)</td>\n    </tr>\n  </tbody>\n</table>\n</div>",
                        "text/plain": "    post_code                                       neighborhood\n87        V5K                  Vancouver(North Hastings-Sunrise)\n88        V5L                Vancouver(North Grandview-Woodland)\n89        V5M  Vancouver(South Hastings-Sunrise / North Renfr...\n90        V5N  Vancouver(South Grandview-Woodland / NE Kensin...\n91        V5P  Vancouver(SE Kensington-Cedar Cottage / Victor...\n92        V5R               Vancouver(South Renfrew-Collingwood)\n93        V5S                               Vancouver(Killarney)\n94        V5T                     Vancouver(East Mount Pleasant)\n95        V5V  Vancouver(West Kensington-Cedar Cottage / NE R...\n96        V5W  Vancouver(SE Riley Park-Little Mountain / SW K...\n97        V5X  Vancouver(SE Oakridge / East Marpole / South S...\n98        V5Y  Vancouver(West Mount Pleasant / West Riley Par...\n99        V5Z            Vancouver(East Fairview / South Cambie)\n100       V6A  Vancouver(Strathcona / Chinatown / Downtown Ea...\n101       V6B  Vancouver(NE Downtown / Gastown / Harbour Cent...\n102       V6C  Vancouver(Waterfront / Coal Harbour / Canada P...\n103       V6E             Vancouver(SE West End / Davie Village)\n104       V6G              Vancouver(NW West End / Stanley Park)\n105       V6H  Vancouver(West Fairview / Granville Island / N...\n106       V6J  Vancouver(NW Shaughnessy / East Kitsilano / Qu...\n107       V6K           Vancouver(Central Kitsilano / Greektown)\n108       V6L  Vancouver(NW Arbutus Ridge / NE Dunbar-Southla...\n109       V6M  Vancouver(South Shaughnessy / NW Oakridge / NE...\n110       V6N  Vancouver(West Kerrisdale / South Dunbar-South...\n111       V6P  Vancouver(SE Kerrisdale / SW Oakridge / West M...\n112       V6R  Vancouver(West Kitsilano / West Point Grey / J...\n113       V6S  Vancouver(NW Dunbar-Southlands / Chaldecutt / ...\n114       V6T                                     Vancouver(UBC)\n119       V6Z                             Vancouver(SW Downtown)\n137       V7X                          Vancouver(Bentall Centre)\n138       V7Y                          Vancouver(Pacific Centre)"
                    },
                    "execution_count": 40,
                    "metadata": {},
                    "output_type": "execute_result"
                }
            ],
            "source": ""
        },
        {
            "cell_type": "code",
            "execution_count": null,
            "metadata": {},
            "outputs": [],
            "source": ""
        }
    ],
    "metadata": {
        "kernelspec": {
            "display_name": "Python 3.7",
            "language": "python",
            "name": "python3"
        },
        "language_info": {
            "codemirror_mode": {
                "name": "ipython",
                "version": 3
            },
            "file_extension": ".py",
            "mimetype": "text/x-python",
            "name": "python",
            "nbconvert_exporter": "python",
            "pygments_lexer": "ipython3",
            "version": "3.7.9"
        }
    },
    "nbformat": 4,
    "nbformat_minor": 1
}